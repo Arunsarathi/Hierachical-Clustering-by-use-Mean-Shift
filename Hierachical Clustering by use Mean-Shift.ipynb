{
 "cells": [
  {
   "cell_type": "code",
   "execution_count": 1,
   "metadata": {},
   "outputs": [
    {
     "name": "stderr",
     "output_type": "stream",
     "text": [
      "C:\\Users\\ASUS\\anaconda3\\lib\\site-packages\\sklearn\\utils\\deprecation.py:144: FutureWarning: The sklearn.datasets.samples_generator module is  deprecated in version 0.22 and will be removed in version 0.24. The corresponding classes / functions should instead be imported from sklearn.datasets. Anything that cannot be imported from sklearn.datasets is now part of the private API.\n",
      "  warnings.warn(message, FutureWarning)\n"
     ]
    }
   ],
   "source": [
    "import numpy as np\n",
    "from sklearn.cluster import MeanShift\n",
    "from sklearn.datasets.samples_generator import make_blobs\n",
    "\n",
    "import matplotlib.pyplot as plt"
   ]
  },
  {
   "cell_type": "code",
   "execution_count": 141,
   "metadata": {},
   "outputs": [],
   "source": [
    "# make some point for Hierachical Clustering\n",
    "\n",
    "# try 3d\n",
    "center =[[1,1],[5,5],[3,3]]\n",
    "X, _ =make_blobs(n_samples=200,centers=center,cluster_std=0.55)"
   ]
  },
  {
   "cell_type": "code",
   "execution_count": 142,
   "metadata": {},
   "outputs": [
    {
     "data": {
      "image/png": "[encoded data removed]",
      "text/plain": [
       "<Figure size 432x288 with 1 Axes>"
      ]
     },
     "metadata": {
      "needs_background": "light"
     },
     "output_type": "display_data"
    }
   ],
   "source": [
    "plt.scatter(X[:,0],X[:,1])\n",
    "plt.show()"
   ]
  },
  {
   "cell_type": "code",
   "execution_count": 143,
   "metadata": {},
   "outputs": [],
   "source": [
    "#we get points \n",
    "# start Hierachical Clustering by use Mean-Shift"
   ]
  },
  {
   "cell_type": "code",
   "execution_count": 144,
   "metadata": {},
   "outputs": [],
   "source": [
    "ms=MeanShift()\n",
    "ms.fit(X)\n",
    "labels =ms.labels_\n",
    "cluster_center = ms.cluster_centers_\n",
    "n_cluster_ =len(np.unique(labels))"
   ]
  },
  {
   "cell_type": "code",
   "execution_count": 145,
   "metadata": {},
   "outputs": [
    {
     "name": "stdout",
     "output_type": "stream",
     "text": [
      "Number of estimated clusters: 3\n"
     ]
    }
   ],
   "source": [
    "print(\"Number of estimated clusters:\",n_cluster_)"
   ]
  },
  {
   "cell_type": "code",
   "execution_count": 146,
   "metadata": {},
   "outputs": [],
   "source": [
    "colors = 10*['r*','g.','c.','k.','y.','m.']"
   ]
  },
  {
   "cell_type": "code",
   "execution_count": 147,
   "metadata": {},
   "outputs": [
    {
     "name": "stdout",
     "output_type": "stream",
     "text": [
      "['r*', 'g.', 'c.', 'k.', 'y.', 'm.', 'r*', 'g.', 'c.', 'k.', 'y.', 'm.', 'r*', 'g.', 'c.', 'k.', 'y.', 'm.', 'r*', 'g.', 'c.', 'k.', 'y.', 'm.', 'r*', 'g.', 'c.', 'k.', 'y.', 'm.', 'r*', 'g.', 'c.', 'k.', 'y.', 'm.', 'r*', 'g.', 'c.', 'k.', 'y.', 'm.', 'r*', 'g.', 'c.', 'k.', 'y.', 'm.', 'r*', 'g.', 'c.', 'k.', 'y.', 'm.', 'r*', 'g.', 'c.', 'k.', 'y.', 'm.']\n",
      "[1 0 1 2 0 0 1 1 1 1 1 2 2 2 1 0 0 1 0 1 0 0 0 1 2 1 1 2 0 2 2 2 2 2 2 2 0\n",
      " 2 0 0 2 2 1 2 0 2 1 0 0 2 1 1 0 2 2 2 2 1 1 1 1 0 0 2 0 0 0 0 0 0 2 0 1 1\n",
      " 2 0 2 0 2 0 0 1 0 0 1 0 0 2 0 1 2 2 0 1 1 1 0 0 0 1 0 1 0 1 0 0 2 1 1 1 2\n",
      " 1 0 0 1 2 1 1 0 2 1 2 2 1 2 0 2 1 2 1 2 2 1 0 2 2 2 1 1 1 0 0 1 1 2 1 0 2\n",
      " 0 2 0 1 2 1 0 0 2 0 2 2 1 2 0 1 2 1 2 0 1 2 2 2 0 1 1 1 1 1 2 1 2 0 1 2 0\n",
      " 0 1 2 0 1 0 0 0 2 1 1 0 0 1 2]\n"
     ]
    }
   ],
   "source": [
    "print(colors)\n",
    "print(labels)\n"
   ]
  },
  {
   "cell_type": "code",
   "execution_count": 148,
   "metadata": {},
   "outputs": [
    {
     "data": {
      "text/plain": [
       "<function matplotlib.pyplot.show(*args, **kw)>"
      ]
     },
     "execution_count": 148,
     "metadata": {},
     "output_type": "execute_result"
    },
    {
     "data": {
      "image/png": "[encoded data removed]",
      "text/plain": [
       "<Figure size 432x288 with 1 Axes>"
      ]
     },
     "metadata": {
      "needs_background": "light"
     },
     "output_type": "display_data"
    }
   ],
   "source": [
    "for i in range(len(X)):\n",
    "    plt.plot(X[i][0],X[i][1], colors[labels[i]],markersize = 10)\n",
    "    \n",
    "plt.scatter(cluster_center[:,0],cluster_center[:,1],\n",
    "           marker=\"x\",s=150,linewidths=5,zorder=10)\n",
    "plt.show"
   ]
  },
  {
   "cell_type": "code",
   "execution_count": null,
   "metadata": {},
   "outputs": [],
   "source": []
  },
  {
   "cell_type": "code",
   "execution_count": null,
   "metadata": {},
   "outputs": [],
   "source": []
  },
  {
   "cell_type": "code",
   "execution_count": null,
   "metadata": {},
   "outputs": [],
   "source": []
  },
  {
   "cell_type": "code",
   "execution_count": null,
   "metadata": {},
   "outputs": [],
   "source": []
  },
  {
   "cell_type": "code",
   "execution_count": null,
   "metadata": {},
   "outputs": [],
   "source": []
  }
 ],
 "metadata": {
  "kernelspec": {
   "display_name": "Python 3",
   "language": "python",
   "name": "python3"
  },
  "language_info": {
   "codemirror_mode": {
    "name": "ipython",
    "version": 3
   },
   "file_extension": ".py",
   "mimetype": "text/x-python",
   "name": "python",
   "nbconvert_exporter": "python",
   "pygments_lexer": "ipython3",
   "version": "3.7.6"
  }
 },
 "nbformat": 4,
 "nbformat_minor": 4
}
